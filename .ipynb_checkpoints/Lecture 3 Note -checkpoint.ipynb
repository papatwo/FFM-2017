{
 "cells": [
  {
   "cell_type": "markdown",
   "metadata": {},
   "source": [
    "# FFM lecture 3 notes \n"
   ]
  },
  {
   "cell_type": "markdown",
   "metadata": {},
   "source": [
    "## Expected Value  \n",
    "\n",
    "每个收益 乘 概率 \n",
    "\n",
    "$$　E   = \\sum R(s) \\times P(s)$$ \n",
    "\n",
    "\n",
    "R = return \n",
    "\n",
    "P = probability \n",
    "\n",
    "## Variance\n",
    "\n",
    "$$ Var(w_1\\times R_1 + w_2 \\times R_2)  =  w_1^2\\times var(R_1) + w_2^2\\times var(R_2) + 2 \\times w_1 \\times w_2 \\times corr(R_1,R_2) $$   \n",
    "Variance  = standard deviation ^2 \n",
    "\n",
    "Volatility = standard deviation  = STD \n",
    "\n",
    "## Covariance \n",
    "\n",
    "\n",
    "## Correlation \n"
   ]
  },
  {
   "cell_type": "markdown",
   "metadata": {},
   "source": [
    "##  Portfolio\n",
    "\n",
    "Asset 1.2.3.4... 加起来　＝　1个 Portfolio\n",
    "\n",
    "每个Asset 会有不同的weight  \n",
    "$\\sum weight = 1$\n"
   ]
  },
  {
   "cell_type": "markdown",
   "metadata": {
    "collapsed": true
   },
   "source": [
    "###  Riskless  无风险\n",
    "\n",
    "$$E[R_f] = R_f$$ \n",
    "\n",
    "$$V[R_f] = 0$$\n",
    "\n",
    "$$Cov[R_f,R+i] = 0 $$\n"
   ]
  },
  {
   "cell_type": "markdown",
   "metadata": {},
   "source": [
    "---------\n",
    "# $w $weight risky ; $1-w$ riskless asset. \n",
    "\n",
    "**Expected  return**  \n",
    "$$ E = w \\times E[R_i] + (1-w) \\times E[R_f]$$\n",
    "$$ =  E[R_f] + w (E[R_i]-E[R_f]) $$ \n",
    "$$  =  R_f + wE([R_i-R_f])$$ \n",
    " $$ = 无风险利润 + 风险溢价 $$\n",
    " \n",
    " \n",
    "$$ \\delta_p = w \\times \\delta_i $$ \n",
    "\n",
    "$ w = \\frac{\\delta_p}{\\delta_i} $ 带入 $ E = R_f + w \\times E(R_i-R_f)$  ?? \n",
    "\n",
    "得到 $ E(R_p) = R_f + \\frac{E(R_i-R_f)}{\\delta_i} \\times \\delta_p  $  ??\n",
    "\n",
    "其中 $\\frac{E(R_i-R_f)}{\\delta_i}  $  叫做 **sharp ratio** ??  瞎搞"
   ]
  },
  {
   "cell_type": "markdown",
   "metadata": {},
   "source": [
    "**Variance**    \n",
    "    \n",
    "$$ V[R_p] = V(w\\times R_i + (1-w)\\times R_f) $$  \n",
    "$$ =  w^2 \\times \\delta_i ^2 $$\n",
    "\n",
    "**STD** \n",
    "\n",
    "$$ \\delta_p = w\\times\\delta_i$$ "
   ]
  },
  {
   "cell_type": "markdown",
   "metadata": {},
   "source": [
    "# 夏普比率\n",
    "\n",
    "夏普比率（Sharpe Ratio），又被称为夏普指数 --- 基金绩效评价标准化指标\n",
    "\n",
    "$$sharp  = \\frac{E[R_p]-R_f}{\\delta_p}$$ \n",
    "\n",
    "<img src = './context/sharp=0.28.png'>"
   ]
  },
  {
   "cell_type": "markdown",
   "metadata": {},
   "source": [
    "# The Capital Allocation Line\n",
    "\n",
    "\n",
    "什么是资本市场线\n",
    "\n",
    "　　\n",
    "资本市场线是指表明有效组合的期望收益率和标准差之间的一种简单的线性关系的一条射线。它是沿着投资组合的有效边界，由风险资产和无风险资产构成的投资组合。\n",
    "\n",
    "\n",
    "资本市场线\n",
    "\n",
    "\n",
    "资本市场线可表达为：\n",
    "\n",
    "\n",
    "$E(R_p) = R_f + slope\\times \\delta_p $\n",
    "\n",
    "\n",
    "其中 $R_p$ 为任意有效组合P的收益率，$R_f$为无风险收益率(纯利率)，$slope $为资本市场线的斜率，$\\delta_p$为有效组合P的标准差(风险)。\n",
    "\n",
    "\n",
    "虽然资本市场线表示的是风险和收益之间的关系，但是这种关系也决定了证券的价格。因为资本市场线是证券有效组合条件下的风险与收益的均衡，如果脱离了这一均衡，则就会在资本市场线之外，形成另一种风险与收益的对应关系。这时，要么风险的报酬偏高，这类证券就会成为市场上的抢手货，造成该证券的价格上涨，投资于该证券的报酬最终会降低下来。要么会造成风险的报酬偏低，这类证券在市场上就会成为市场上投资者大量抛售的目标，造成该证券的价格下跌，投资于该证券的报酬最终会提高。经过一段时间后，所有证券的风险和收益最终会落到资本市场线上来，达到均衡状态。\n",
    "\n",
    "\n",
    "<img src = './context/acl.png'>"
   ]
  },
  {
   "cell_type": "markdown",
   "metadata": {},
   "source": [
    "# Indifference Curves  无差异线 \n",
    "\n",
    "什么是无差异曲线\n",
    "\n",
    "无差异曲线是用来表示两种商品或两组商品的不同数量的组合对消费者所提供的效用是相同的，无差异曲线符合这样一个要求：如果听任消费者对曲线上的点作选择，那么，所有的点对他都是同样可取的，因为任一点所代表的组合给他所带来的满足都是无差异的。\n",
    "  \n",
    "<img src='./context/indiff curve .png'>"
   ]
  },
  {
   "cell_type": "markdown",
   "metadata": {},
   "source": [
    "# Utility Function\n",
    "\n",
    "不知所云 "
   ]
  },
  {
   "cell_type": "markdown",
   "metadata": {},
   "source": [
    "# 傻逼题1.  \n",
    "\n",
    "\n",
    "## 两个 asset 组合成 一个 portfolio 的相关计算问题 \n",
    "\n",
    "已知 asset  A  B 的 return  std  corr \n",
    "和weight  \n",
    "\n",
    "求 组合的 Expect return ； std  \n",
    "\n",
    "有时候 会发现 $ std（组合） <  min （std（A），std（B）） $\n",
    "\n",
    "## 如果 weight 是变量  ？ ？ \n",
    "\n",
    "Var 能化简成 有关 w 的二次函数 ； Expect return 是有关 w 的一次函数。  \n",
    "\n",
    "先把 $w$ 写成 $ w = a\\times Expect +b $ 的形式 ， 然后带入 var 。 \n",
    "\n",
    "再次化简， 能画出Expect return 和Portfolio risk （Var（portfolio）） 的关系曲线。 \n",
    "\n",
    "是横向抛物线。 。\n",
    "\n",
    "开做空和不开做空是不一样的。 \n",
    "\n",
    "<img src='./context/returnvsrisk.png'>"
   ]
  },
  {
   "cell_type": "markdown",
   "metadata": {},
   "source": [
    "根据 corr 的不同性质， 这个关系曲线是不同的。\n",
    "\n",
    "when corr(R_a,R_b) = 1 \n",
    "\n",
    "$ \\delta_p = a \\times w + b $  带入 var 得到 $var = c\\times exp + d$ 是 一条直线 。 \n",
    "\n",
    "when corr (R_a,R_b) = -1 \n",
    "\n",
    "$\\delta_p   = abs(something) $  有绝对值 。 \n",
    "\n",
    "化简出来 以后需要 正负 号 讨论 。 \n",
    "\n",
    "所以得到两条直线 。 \n",
    "\n",
    "\n",
    "<img src= './context/returnvsrisk2.png'>"
   ]
  },
  {
   "cell_type": "markdown",
   "metadata": {},
   "source": [
    "# Equal-Weighted Portfolios\n",
    "\n",
    "\n",
    "**Case 1.**  corr(assets) = 0 \n",
    "\n",
    "Risk decreases with the number of assets.\n",
    "\n",
    "**case 2 ** corr(assets) != 0 \n",
    "\n",
    "Risk decreases with the number of assets."
   ]
  }
 ],
 "metadata": {
  "anaconda-cloud": {},
  "kernelspec": {
   "display_name": "Python [default]",
   "language": "python",
   "name": "python2"
  },
  "language_info": {
   "codemirror_mode": {
    "name": "ipython",
    "version": 2
   },
   "file_extension": ".py",
   "mimetype": "text/x-python",
   "name": "python",
   "nbconvert_exporter": "python",
   "pygments_lexer": "ipython2",
   "version": "2.7.12"
  }
 },
 "nbformat": 4,
 "nbformat_minor": 2
}
