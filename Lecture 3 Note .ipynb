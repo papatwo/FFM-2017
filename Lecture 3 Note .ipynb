{
 "cells": [
  {
   "cell_type": "markdown",
   "metadata": {},
   "source": [
    "# FFM lecture 3 notes \n"
   ]
  },
  {
   "cell_type": "markdown",
   "metadata": {},
   "source": [
    "## Expected Value\n",
    "\n",
    "\n",
    "$$　E   = \\sum R(s) \\times P(s)$$ \n",
    "\n",
    "\n",
    "R = return \n",
    "\n",
    "P = probability \n",
    "\n",
    "## Variance\n",
    "Variance  = standard deviation ^2 \n",
    "\n",
    "Volatility = standard deviation  = STD \n",
    "\n",
    "## Covariance \n",
    "\n",
    "\n",
    "## Correlation \n"
   ]
  },
  {
   "cell_type": "markdown",
   "metadata": {},
   "source": [
    "##  Portfolio\n",
    "\n",
    "Asset 1.2.3.4... 加起来　＝　1个 Portfolio\n",
    "\n",
    "每个Asset 会有不同的weight  \n",
    "$\\sum weight = 1$\n"
   ]
  },
  {
   "cell_type": "code",
   "execution_count": null,
   "metadata": {
    "collapsed": true
   },
   "outputs": [],
   "source": []
  }
 ],
 "metadata": {
  "kernelspec": {
   "display_name": "Python 2",
   "language": "python",
   "name": "python2"
  },
  "language_info": {
   "codemirror_mode": {
    "name": "ipython",
    "version": 2
   },
   "file_extension": ".py",
   "mimetype": "text/x-python",
   "name": "python",
   "nbconvert_exporter": "python",
   "pygments_lexer": "ipython2",
   "version": "2.7.13"
  }
 },
 "nbformat": 4,
 "nbformat_minor": 2
}
